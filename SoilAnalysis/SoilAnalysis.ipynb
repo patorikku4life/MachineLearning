{
 "cells": [
  {
   "cell_type": "markdown",
   "metadata": {},
   "source": [
    "# African Soil Property Prediction Challenge "
   ]
  },
  {
   "cell_type": "markdown",
   "metadata": {},
   "source": [
    "## 0. Description"
   ]
  },
  {
   "cell_type": "markdown",
   "metadata": {},
   "source": [
    "Advances in rapid, low cost analysis of soil samples using infrared spectroscopy, georeferencing of soil samples, and greater availability of earth remote sensing data provide new opportunities for predicting soil functional properties at unsampled locations. Soil functional properties are those properties related to a soil’s capacity to support essential ecosystem services such as primary productivity, nutrient and water retention, and resistance to soil erosion."
   ]
  },
  {
   "cell_type": "markdown",
   "metadata": {},
   "source": [
    "Diffuse reflectance infrared spectroscopy has shown potential in numerous studies to provide a highly repeatable, rapid and low cost measurement of many soil functional properties. The amount of light absorbed by a soil sample is measured, with minimal sample preparation, at hundreds of specific wavebands across a range of wavelengths to provide an infrared spectrum. The measurement can be typically performed in about 30 seconds, in contrast to conventional reference tests, which are slow and expensive and use chemicals."
   ]
  },
  {
   "cell_type": "markdown",
   "metadata": {},
   "source": [
    "This competition asks you to predict 5 target soil functional properties from diffuse reflectance infrared spectroscopy measurements."
   ]
  },
  {
   "cell_type": "markdown",
   "metadata": {},
   "source": [
    "## 1. Frame the problem and look at the big picture"
   ]
  },
  {
   "cell_type": "markdown",
   "metadata": {},
   "source": [
    "* "
   ]
  },
  {
   "cell_type": "markdown",
   "metadata": {},
   "source": [
    "## 2. Getting the data"
   ]
  },
  {
   "cell_type": "markdown",
   "metadata": {},
   "source": [
    "A function for making the data into a DataFrame. "
   ]
  },
  {
   "cell_type": "code",
   "execution_count": 1,
   "metadata": {},
   "outputs": [],
   "source": [
    "import pandas as pd\n",
    "\n",
    "DATA_PATH = \"datasets\"\n",
    "\n",
    "def load_data (path=DATA_PATH):\n",
    "    return pd.read_csv(path)"
   ]
  },
  {
   "cell_type": "markdown",
   "metadata": {},
   "source": [
    "Let's take a look at the training data."
   ]
  },
  {
   "cell_type": "code",
   "execution_count": 11,
   "metadata": {},
   "outputs": [
    {
     "data": {
      "text/html": [
       "<div>\n",
       "<style scoped>\n",
       "    .dataframe tbody tr th:only-of-type {\n",
       "        vertical-align: middle;\n",
       "    }\n",
       "\n",
       "    .dataframe tbody tr th {\n",
       "        vertical-align: top;\n",
       "    }\n",
       "\n",
       "    .dataframe thead th {\n",
       "        text-align: right;\n",
       "    }\n",
       "</style>\n",
       "<table border=\"1\" class=\"dataframe\">\n",
       "  <thead>\n",
       "    <tr style=\"text-align: right;\">\n",
       "      <th></th>\n",
       "      <th>PIDN</th>\n",
       "      <th>m7497.96</th>\n",
       "      <th>m7496.04</th>\n",
       "      <th>m7494.11</th>\n",
       "      <th>m7492.18</th>\n",
       "      <th>m7490.25</th>\n",
       "      <th>m7488.32</th>\n",
       "      <th>m7486.39</th>\n",
       "      <th>m7484.46</th>\n",
       "      <th>m7482.54</th>\n",
       "      <th>...</th>\n",
       "      <th>REF7</th>\n",
       "      <th>RELI</th>\n",
       "      <th>TMAP</th>\n",
       "      <th>TMFI</th>\n",
       "      <th>Depth</th>\n",
       "      <th>Ca</th>\n",
       "      <th>P</th>\n",
       "      <th>pH</th>\n",
       "      <th>SOC</th>\n",
       "      <th>Sand</th>\n",
       "    </tr>\n",
       "  </thead>\n",
       "  <tbody>\n",
       "    <tr>\n",
       "      <th>0</th>\n",
       "      <td>XNhoFZW5</td>\n",
       "      <td>0.302553</td>\n",
       "      <td>0.301137</td>\n",
       "      <td>0.299748</td>\n",
       "      <td>0.300354</td>\n",
       "      <td>0.302679</td>\n",
       "      <td>0.303799</td>\n",
       "      <td>0.301702</td>\n",
       "      <td>0.298936</td>\n",
       "      <td>0.298126</td>\n",
       "      <td>...</td>\n",
       "      <td>-0.646673</td>\n",
       "      <td>1.687734</td>\n",
       "      <td>0.190708</td>\n",
       "      <td>0.056843</td>\n",
       "      <td>Topsoil</td>\n",
       "      <td>-0.295749</td>\n",
       "      <td>-0.041336</td>\n",
       "      <td>-1.129366</td>\n",
       "      <td>0.353258</td>\n",
       "      <td>1.269748</td>\n",
       "    </tr>\n",
       "    <tr>\n",
       "      <th>1</th>\n",
       "      <td>9XNspFTd</td>\n",
       "      <td>0.270192</td>\n",
       "      <td>0.268555</td>\n",
       "      <td>0.266964</td>\n",
       "      <td>0.267938</td>\n",
       "      <td>0.271013</td>\n",
       "      <td>0.272346</td>\n",
       "      <td>0.269870</td>\n",
       "      <td>0.266976</td>\n",
       "      <td>0.266544</td>\n",
       "      <td>...</td>\n",
       "      <td>-0.646673</td>\n",
       "      <td>1.687734</td>\n",
       "      <td>0.190708</td>\n",
       "      <td>0.056843</td>\n",
       "      <td>Subsoil</td>\n",
       "      <td>-0.387442</td>\n",
       "      <td>-0.231552</td>\n",
       "      <td>-1.531538</td>\n",
       "      <td>-0.264023</td>\n",
       "      <td>1.692209</td>\n",
       "    </tr>\n",
       "    <tr>\n",
       "      <th>2</th>\n",
       "      <td>WDId41qG</td>\n",
       "      <td>0.317433</td>\n",
       "      <td>0.316265</td>\n",
       "      <td>0.314948</td>\n",
       "      <td>0.315224</td>\n",
       "      <td>0.316942</td>\n",
       "      <td>0.317764</td>\n",
       "      <td>0.316067</td>\n",
       "      <td>0.313874</td>\n",
       "      <td>0.313301</td>\n",
       "      <td>...</td>\n",
       "      <td>-0.814516</td>\n",
       "      <td>1.806660</td>\n",
       "      <td>0.190708</td>\n",
       "      <td>0.056843</td>\n",
       "      <td>Topsoil</td>\n",
       "      <td>-0.248601</td>\n",
       "      <td>-0.224635</td>\n",
       "      <td>-0.259551</td>\n",
       "      <td>0.064152</td>\n",
       "      <td>2.091835</td>\n",
       "    </tr>\n",
       "    <tr>\n",
       "      <th>3</th>\n",
       "      <td>JrrJf1mN</td>\n",
       "      <td>0.261116</td>\n",
       "      <td>0.259767</td>\n",
       "      <td>0.258384</td>\n",
       "      <td>0.259001</td>\n",
       "      <td>0.261310</td>\n",
       "      <td>0.262417</td>\n",
       "      <td>0.260534</td>\n",
       "      <td>0.258039</td>\n",
       "      <td>0.257246</td>\n",
       "      <td>...</td>\n",
       "      <td>-0.814516</td>\n",
       "      <td>1.806660</td>\n",
       "      <td>0.190708</td>\n",
       "      <td>0.056843</td>\n",
       "      <td>Subsoil</td>\n",
       "      <td>-0.332195</td>\n",
       "      <td>-0.318014</td>\n",
       "      <td>-0.577548</td>\n",
       "      <td>-0.318719</td>\n",
       "      <td>2.118477</td>\n",
       "    </tr>\n",
       "    <tr>\n",
       "      <th>4</th>\n",
       "      <td>ZoIitegA</td>\n",
       "      <td>0.260038</td>\n",
       "      <td>0.258425</td>\n",
       "      <td>0.256544</td>\n",
       "      <td>0.257030</td>\n",
       "      <td>0.259602</td>\n",
       "      <td>0.260786</td>\n",
       "      <td>0.258717</td>\n",
       "      <td>0.256352</td>\n",
       "      <td>0.255902</td>\n",
       "      <td>...</td>\n",
       "      <td>-0.780242</td>\n",
       "      <td>0.430513</td>\n",
       "      <td>0.190708</td>\n",
       "      <td>0.056843</td>\n",
       "      <td>Topsoil</td>\n",
       "      <td>-0.438350</td>\n",
       "      <td>-0.010210</td>\n",
       "      <td>-0.699135</td>\n",
       "      <td>-0.310905</td>\n",
       "      <td>2.164148</td>\n",
       "    </tr>\n",
       "  </tbody>\n",
       "</table>\n",
       "<p>5 rows × 3600 columns</p>\n",
       "</div>"
      ],
      "text/plain": [
       "       PIDN  m7497.96  m7496.04  m7494.11  m7492.18  m7490.25  m7488.32  \\\n",
       "0  XNhoFZW5  0.302553  0.301137  0.299748  0.300354  0.302679  0.303799   \n",
       "1  9XNspFTd  0.270192  0.268555  0.266964  0.267938  0.271013  0.272346   \n",
       "2  WDId41qG  0.317433  0.316265  0.314948  0.315224  0.316942  0.317764   \n",
       "3  JrrJf1mN  0.261116  0.259767  0.258384  0.259001  0.261310  0.262417   \n",
       "4  ZoIitegA  0.260038  0.258425  0.256544  0.257030  0.259602  0.260786   \n",
       "\n",
       "   m7486.39  m7484.46  m7482.54    ...         REF7      RELI      TMAP  \\\n",
       "0  0.301702  0.298936  0.298126    ...    -0.646673  1.687734  0.190708   \n",
       "1  0.269870  0.266976  0.266544    ...    -0.646673  1.687734  0.190708   \n",
       "2  0.316067  0.313874  0.313301    ...    -0.814516  1.806660  0.190708   \n",
       "3  0.260534  0.258039  0.257246    ...    -0.814516  1.806660  0.190708   \n",
       "4  0.258717  0.256352  0.255902    ...    -0.780242  0.430513  0.190708   \n",
       "\n",
       "       TMFI    Depth        Ca         P        pH       SOC      Sand  \n",
       "0  0.056843  Topsoil -0.295749 -0.041336 -1.129366  0.353258  1.269748  \n",
       "1  0.056843  Subsoil -0.387442 -0.231552 -1.531538 -0.264023  1.692209  \n",
       "2  0.056843  Topsoil -0.248601 -0.224635 -0.259551  0.064152  2.091835  \n",
       "3  0.056843  Subsoil -0.332195 -0.318014 -0.577548 -0.318719  2.118477  \n",
       "4  0.056843  Topsoil -0.438350 -0.010210 -0.699135 -0.310905  2.164148  \n",
       "\n",
       "[5 rows x 3600 columns]"
      ]
     },
     "execution_count": 11,
     "metadata": {},
     "output_type": "execute_result"
    }
   ],
   "source": [
    "training = load_data(path = \"datasets/training.csv\")\n",
    "training.head()"
   ]
  },
  {
   "cell_type": "code",
   "execution_count": 3,
   "metadata": {},
   "outputs": [
    {
     "name": "stdout",
     "output_type": "stream",
     "text": [
      "<class 'pandas.core.frame.DataFrame'>\n",
      "RangeIndex: 1157 entries, 0 to 1156\n",
      "Columns: 3600 entries, PIDN to Sand\n",
      "dtypes: float64(3598), object(2)\n",
      "memory usage: 31.8+ MB\n"
     ]
    }
   ],
   "source": [
    "training.info()"
   ]
  },
  {
   "cell_type": "markdown",
   "metadata": {},
   "source": [
    "### Explanation of data fields "
   ]
  },
  {
   "cell_type": "markdown",
   "metadata": {},
   "source": [
    "SOC, pH, Ca, P, Sand are the five target variables for predictions. The data have been monotonously transformed from the original measurements and thus include negative values. \n",
    "* PIDN: unique soil sample identifier\n",
    "* SOC: Soil organic carbon\n",
    "* pH: pH values\n",
    "* Ca: Mehlich-3 extractable Calcium\n",
    "* P: Mehlich-3 extractable Phosphorus\n",
    "* Sand: Sand content \n",
    "* m7497.96 - m599.76: There are 3,578 mid-infrared absorbance measurements. For example, the \"m7497.96\" column is the absorbance at wavenumber 7497.96 cm-1. We suggest you to remove spectra CO2 bands which are in the region m2379.76 to m2352.76, but you do not have to.\n",
    "    Depth: Depth of the soil sample (2 categories: \"Topsoil\", \"Subsoil\")\n",
    "\n",
    "Also included are some potential spatial predictors from remote sensing data sources. Short variable descriptions are provided below and additional descriptions can be found at AfSIS data. The data have been mean centered and scaled.\n",
    "\n",
    "* BSA: average long-term Black Sky Albedo measurements from MODIS satellite images (BSAN = near-infrared, BSAS = shortwave, BSAV = visible)\n",
    "* CTI: compound topographic index calculated from Shuttle Radar Topography Mission elevation data\n",
    "* ELEV: Shuttle Radar Topography Mission elevation data\n",
    "* EVI: average long-term Enhanced Vegetation Index from MODIS satellite images.\n",
    "* LST: average long-term Land Surface Temperatures from MODIS satellite images (LSTD = day time temperature, LSTN = night time temperature)\n",
    "* Ref: average long-term Reflectance measurements from MODIS satellite images (Ref1 = blue, Ref2 = red, Ref3 = near-infrared, Ref7 = mid-infrared)\n",
    "* Reli: topographic Relief calculated from Shuttle Radar Topography mission elevation data\n",
    "* TMAP & TMFI: average long-term Tropical Rainfall Monitoring Mission data (TMAP = mean annual precipitation, TMFI = modified Fournier index)\n"
   ]
  },
  {
   "cell_type": "markdown",
   "metadata": {},
   "source": [
    "## 3. Discover and Visualize the Data to Gain Insights"
   ]
  },
  {
   "cell_type": "markdown",
   "metadata": {},
   "source": [
    "Plot histograms of all properties but the spectrums, and caterogical data to get an idea of what the data looks like."
   ]
  },
  {
   "cell_type": "code",
   "execution_count": 14,
   "metadata": {},
   "outputs": [
    {
     "data": {
      "image/png": "[encoded data removed]",
      "text/plain": [
       "<matplotlib.figure.Figure at 0x7f807533de48>"
      ]
     },
     "metadata": {},
     "output_type": "display_data"
    }
   ],
   "source": [
    "%matplotlib inline \n",
    "\n",
    "import matplotlib.pyplot as plt\n",
    "\n",
    "training.hist (column = [\"Ca\", \"P\", \"pH\", \"SOC\", \"Sand\"] , bins=50, figsize=(20, 15))\n",
    "plt.show()"
   ]
  },
  {
   "cell_type": "markdown",
   "metadata": {},
   "source": []
  }
 ],
 "metadata": {
  "kernelspec": {
   "display_name": "Python 3",
   "language": "python",
   "name": "python3"
  },
  "language_info": {
   "codemirror_mode": {
    "name": "ipython",
    "version": 3
   },
   "file_extension": ".py",
   "mimetype": "text/x-python",
   "name": "python",
   "nbconvert_exporter": "python",
   "pygments_lexer": "ipython3",
   "version": "3.6.4"
  }
 },
 "nbformat": 4,
 "nbformat_minor": 2
}
