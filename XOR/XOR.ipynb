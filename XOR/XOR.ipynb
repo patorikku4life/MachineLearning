{
 "cells": [
  {
   "cell_type": "markdown",
   "metadata": {},
   "source": [
    "# Learning XOR"
   ]
  },
  {
   "cell_type": "markdown",
   "metadata": {},
   "source": [
    "We are trying to make a simple feedforward network to learn the XOR gate behaviour."
   ]
  },
  {
   "cell_type": "markdown",
   "metadata": {},
   "source": [
    "## Getting the data"
   ]
  },
  {
   "cell_type": "code",
   "execution_count": 1,
   "metadata": {},
   "outputs": [],
   "source": [
    "import numpy as np\n",
    "import tensorflow as tf\n",
    "\n",
    "num_features = 2\n",
    "num_iter = 100000\n",
    "display_step = int(num_iter / 10)\n",
    "learning_rate = 0.01\n",
    "\n",
    "num_input = 2          # units in the input layer 28x28 images\n",
    "num_hidden1 = 2        # units in the first hidden layer\n",
    "num_output = 1         # units in the output, only one output 0 or 1\n",
    "\n",
    "# x, y = XOR.as_matrix(columns=[\"x_1\", \"x_2\"]), XOR.as_matrix(columns=[\"y\"])\n",
    "# y = np.reshape(y, [4,1]) \n",
    "\n",
    "x = np.array([[0, 0], [0, 1], [1, 0], [1, 1]], np.float32)  # 4x2, input\n",
    "y = np.array([0, 1, 1, 0], np.float32)                      # 4, correct output, AND operation\n",
    "y = np.reshape(y, [4,1]) \n",
    "\n",
    "# trainum_inputg data and labels\n",
    "X = tf.placeholder('float', [None, num_input])     # training data\n",
    "Y = tf.placeholder('float', [None, num_output])    # labels"
   ]
  },
  {
   "cell_type": "markdown",
   "metadata": {},
   "source": [
    "MLP approximation function"
   ]
  },
  {
   "cell_type": "code",
   "execution_count": 2,
   "metadata": {},
   "outputs": [],
   "source": [
    "def multi_layer_perceptron_xor(x, weights, biases):\n",
    "  hidden_layer1 = tf.add(tf.matmul(x, weights['w_h1']), biases['b_h1'])\n",
    "  hidden_layer1 = tf.nn.sigmoid(hidden_layer1)\n",
    "  out_layer = tf.add(tf.matmul(hidden_layer1, weights['w_out']), biases['b_out'])\n",
    " \n",
    "  return out_layer"
   ]
  },
  {
   "cell_type": "code",
   "execution_count": 3,
   "metadata": {},
   "outputs": [],
   "source": [
    "weights = {\n",
    " 'w_h1' : tf.Variable(tf.random_normal([num_input, num_hidden1])),\n",
    " 'w_out': tf.Variable(tf.random_normal([num_hidden1, num_output]))\n",
    "}\n",
    " \n",
    "biases = {\n",
    " 'b_h1' : tf.Variable(tf.zeros([num_hidden1])),\n",
    " 'b_out': tf.Variable(tf.zeros([num_output]))\n",
    "}"
   ]
  },
  {
   "cell_type": "markdown",
   "metadata": {},
   "source": [
    "Create model"
   ]
  },
  {
   "cell_type": "code",
   "execution_count": 4,
   "metadata": {},
   "outputs": [],
   "source": [
    "model = multi_layer_perceptron_xor(X, weights, biases)"
   ]
  },
  {
   "cell_type": "markdown",
   "metadata": {},
   "source": [
    "Train the model."
   ]
  },
  {
   "cell_type": "code",
   "execution_count": 5,
   "metadata": {},
   "outputs": [
    {
     "name": "stdout",
     "output_type": "stream",
     "text": [
      "output:  [[-1.14197934]\n",
      " [-0.80633241]\n",
      " [-0.49908867]\n",
      " [-0.29186961]]\n",
      "loss= 2.99108\n",
      "output:  [[-3.65861964]\n",
      " [ 3.17279172]\n",
      " [-0.00873146]\n",
      " [ 0.0709927 ]]\n",
      "loss= 1.49329\n",
      "output:  [[-4.66471386]\n",
      " [ 4.27062464]\n",
      " [-0.00773187]\n",
      " [ 0.02575936]]\n",
      "loss= 1.42639\n",
      "output:  [[-5.18459988]\n",
      " [ 4.83574438]\n",
      " [-0.0057108 ]\n",
      " [ 0.01501783]]\n",
      "loss= 1.41019\n",
      "output:  [[ -5.53317833e+00]\n",
      " [  5.21291304e+00]\n",
      " [ -4.48238011e-03]\n",
      " [  1.04323542e-02]]\n",
      "loss= 1.40314\n",
      "output:  [[ -5.79477978e+00]\n",
      " [  5.49494505e+00]\n",
      " [ -3.68394726e-03]\n",
      " [  7.93091394e-03]]\n",
      "loss= 1.39925\n",
      "output:  [[ -6.00418711e+00]\n",
      " [  5.71969461e+00]\n",
      " [ -3.12616746e-03]\n",
      " [  6.36973511e-03]]\n",
      "loss= 1.39679\n",
      "output:  [[ -6.17806816e+00]\n",
      " [  5.90633297e+00]\n",
      " [ -2.71800021e-03]\n",
      " [  5.30433236e-03]]\n",
      "loss= 1.39510\n",
      "output:  [[ -6.32717180e+00]\n",
      " [  6.06582785e+00]\n",
      " [ -2.40298500e-03]\n",
      " [  4.53614211e-03]]\n",
      "loss= 1.39387\n",
      "output:  [[ -6.45765543e+00]\n",
      " [  6.20487928e+00]\n",
      " [ -2.15370138e-03]\n",
      " [  3.95651953e-03]]\n",
      "loss= 1.39294\n"
     ]
    }
   ],
   "source": [
    "'''\n",
    "- cost function and optimization\n",
    "- sigmoid cross entropy -- single output\n",
    "- softmax cross entropy -- multiple output, normalized\n",
    "'''\n",
    "loss_func = tf.reduce_sum(tf.nn.sigmoid_cross_entropy_with_logits(logits=model, labels=Y))\n",
    "optimizer = tf.train.GradientDescentOptimizer(learning_rate=learning_rate).minimize(loss_func)\n",
    "\n",
    "sess = tf.Session()\n",
    "init = tf.global_variables_initializer()\n",
    "sess.run(init)\n",
    "\n",
    "for k in range(num_iter):\n",
    "    tmp_cost, _ = sess.run([loss_func, optimizer], feed_dict={X: x, Y: y})\n",
    "    if k % display_step == 0:\n",
    "        print('output: ', sess.run(model, feed_dict={X:x}))\n",
    "        print('loss= ' + \"{:.5f}\".format(tmp_cost))\n",
    "\n",
    "# separates the input space\n",
    "W = np.squeeze(sess.run(weights['w_h1']))   # 2x2\n",
    "b = np.squeeze(sess.run(biases['b_h1']))    # 2,\n",
    "\n",
    "sess.close()"
   ]
  },
  {
   "cell_type": "code",
   "execution_count": 8,
   "metadata": {},
   "outputs": [
    {
     "data": {
      "text/plain": [
       "array([ 1.5617435 , -2.35387278], dtype=float32)"
      ]
     },
     "execution_count": 8,
     "metadata": {},
     "output_type": "execute_result"
    }
   ],
   "source": [
    "b"
   ]
  },
  {
   "cell_type": "code",
   "execution_count": null,
   "metadata": {},
   "outputs": [],
   "source": [
    "b = "
   ]
  }
 ],
 "metadata": {
  "kernelspec": {
   "display_name": "Python 3",
   "language": "python",
   "name": "python3"
  },
  "language_info": {
   "codemirror_mode": {
    "name": "ipython",
    "version": 3
   },
   "file_extension": ".py",
   "mimetype": "text/x-python",
   "name": "python",
   "nbconvert_exporter": "python",
   "pygments_lexer": "ipython3",
   "version": "3.6.5"
  }
 },
 "nbformat": 4,
 "nbformat_minor": 2
}
